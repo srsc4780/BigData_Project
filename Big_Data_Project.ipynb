{
  "nbformat": 4,
  "nbformat_minor": 0,
  "metadata": {
    "colab": {
      "name": "Big_Data_Project.ipynb",
      "provenance": [],
      "collapsed_sections": []
    },
    "kernelspec": {
      "name": "python3",
      "display_name": "Python 3"
    },
    "language_info": {
      "name": "python"
    }
  },
  "cells": [
    {
      "cell_type": "code",
      "metadata": {
        "id": "hLfmNxpBmA4q"
      },
      "source": [
        "import numpy as np #linear algebra\n",
        "#library which deals with the missing value\n",
        "from sklearn.impute import SimpleImputer\n",
        "imputer = SimpleImputer(missing_values=np.nan, strategy='mean')\n",
        "#imported for cross validation purposes\n",
        "from sklearn.model_selection import GridSearchCV\n",
        "#imported for linear regression\n",
        "from sklearn import linear_model\n",
        "#to evaluate the performance of the models\n",
        "from sklearn.metrics import make_scorer\n",
        "\n",
        "#support vector machine, this is a regression problem and it is used to perform a regression\n",
        "from sklearn import svm\n",
        "import pandas as pd #data processing\n",
        "import matplotlib.pyplot as plt #graph plotting\n",
        "from sklearn.linear_model import LinearRegression\n",
        "\n",
        "from sklearn import neighbors #this is another regression model\n",
        "from math import sqrt #to perform square root operations"
      ],
      "execution_count": null,
      "outputs": []
    },
    {
      "cell_type": "code",
      "metadata": {
        "id": "AGWKhK9xrJ7T",
        "colab": {
          "base_uri": "https://localhost:8080/",
          "height": 376
        },
        "outputId": "298f5c3f-a426-4cc8-a6a9-3382995f59c8"
      },
      "source": [
        "# read data\n",
        "from google.colab import drive\n",
        "drive.mount('/content/drive/')\n",
        "\n",
        "df = pd.read_csv('/content/drive/My Drive/Big_Data_Lab/measures_v2.csv', usecols = [0,1,2,3,4,5,6,7,8,9,10,11])\n",
        "df.head(10)"
      ],
      "execution_count": null,
      "outputs": [
        {
          "output_type": "stream",
          "name": "stdout",
          "text": [
            "Drive already mounted at /content/drive/; to attempt to forcibly remount, call drive.mount(\"/content/drive/\", force_remount=True).\n"
          ]
        },
        {
          "output_type": "execute_result",
          "data": {
            "text/html": [
              "<div>\n",
              "<style scoped>\n",
              "    .dataframe tbody tr th:only-of-type {\n",
              "        vertical-align: middle;\n",
              "    }\n",
              "\n",
              "    .dataframe tbody tr th {\n",
              "        vertical-align: top;\n",
              "    }\n",
              "\n",
              "    .dataframe thead th {\n",
              "        text-align: right;\n",
              "    }\n",
              "</style>\n",
              "<table border=\"1\" class=\"dataframe\">\n",
              "  <thead>\n",
              "    <tr style=\"text-align: right;\">\n",
              "      <th></th>\n",
              "      <th>u_q</th>\n",
              "      <th>coolant</th>\n",
              "      <th>stator_winding</th>\n",
              "      <th>u_d</th>\n",
              "      <th>stator_tooth</th>\n",
              "      <th>motor_speed</th>\n",
              "      <th>i_d</th>\n",
              "      <th>i_q</th>\n",
              "      <th>pm</th>\n",
              "      <th>stator_yoke</th>\n",
              "      <th>ambient</th>\n",
              "      <th>torque</th>\n",
              "    </tr>\n",
              "  </thead>\n",
              "  <tbody>\n",
              "    <tr>\n",
              "      <th>0</th>\n",
              "      <td>-0.450682</td>\n",
              "      <td>18.805172</td>\n",
              "      <td>19.086670</td>\n",
              "      <td>-0.350055</td>\n",
              "      <td>18.293219</td>\n",
              "      <td>0.002866</td>\n",
              "      <td>0.004419</td>\n",
              "      <td>0.000328</td>\n",
              "      <td>24.554214</td>\n",
              "      <td>18.316547</td>\n",
              "      <td>19.850691</td>\n",
              "      <td>0.187101</td>\n",
              "    </tr>\n",
              "    <tr>\n",
              "      <th>1</th>\n",
              "      <td>-0.325737</td>\n",
              "      <td>18.818571</td>\n",
              "      <td>19.092390</td>\n",
              "      <td>-0.305803</td>\n",
              "      <td>18.294807</td>\n",
              "      <td>0.000257</td>\n",
              "      <td>0.000606</td>\n",
              "      <td>-0.000785</td>\n",
              "      <td>24.538078</td>\n",
              "      <td>18.314955</td>\n",
              "      <td>19.850672</td>\n",
              "      <td>0.245417</td>\n",
              "    </tr>\n",
              "    <tr>\n",
              "      <th>2</th>\n",
              "      <td>-0.440864</td>\n",
              "      <td>18.828770</td>\n",
              "      <td>19.089380</td>\n",
              "      <td>-0.372503</td>\n",
              "      <td>18.294094</td>\n",
              "      <td>0.002355</td>\n",
              "      <td>0.001290</td>\n",
              "      <td>0.000386</td>\n",
              "      <td>24.544693</td>\n",
              "      <td>18.326307</td>\n",
              "      <td>19.850657</td>\n",
              "      <td>0.176615</td>\n",
              "    </tr>\n",
              "    <tr>\n",
              "      <th>3</th>\n",
              "      <td>-0.327026</td>\n",
              "      <td>18.835567</td>\n",
              "      <td>19.083031</td>\n",
              "      <td>-0.316199</td>\n",
              "      <td>18.292542</td>\n",
              "      <td>0.006105</td>\n",
              "      <td>0.000026</td>\n",
              "      <td>0.002046</td>\n",
              "      <td>24.554018</td>\n",
              "      <td>18.330833</td>\n",
              "      <td>19.850647</td>\n",
              "      <td>0.238303</td>\n",
              "    </tr>\n",
              "    <tr>\n",
              "      <th>4</th>\n",
              "      <td>-0.471150</td>\n",
              "      <td>18.857033</td>\n",
              "      <td>19.082525</td>\n",
              "      <td>-0.332272</td>\n",
              "      <td>18.291428</td>\n",
              "      <td>0.003133</td>\n",
              "      <td>-0.064317</td>\n",
              "      <td>0.037184</td>\n",
              "      <td>24.565397</td>\n",
              "      <td>18.326662</td>\n",
              "      <td>19.850639</td>\n",
              "      <td>0.208197</td>\n",
              "    </tr>\n",
              "    <tr>\n",
              "      <th>5</th>\n",
              "      <td>-0.538973</td>\n",
              "      <td>18.901548</td>\n",
              "      <td>19.077108</td>\n",
              "      <td>0.009147</td>\n",
              "      <td>18.290628</td>\n",
              "      <td>0.009636</td>\n",
              "      <td>-0.613635</td>\n",
              "      <td>0.336747</td>\n",
              "      <td>24.573601</td>\n",
              "      <td>18.323862</td>\n",
              "      <td>19.850634</td>\n",
              "      <td>0.476218</td>\n",
              "    </tr>\n",
              "    <tr>\n",
              "      <th>6</th>\n",
              "      <td>-0.653148</td>\n",
              "      <td>18.941711</td>\n",
              "      <td>19.074583</td>\n",
              "      <td>0.238890</td>\n",
              "      <td>18.292524</td>\n",
              "      <td>0.001337</td>\n",
              "      <td>-1.005647</td>\n",
              "      <td>0.554211</td>\n",
              "      <td>24.576578</td>\n",
              "      <td>18.321936</td>\n",
              "      <td>19.850630</td>\n",
              "      <td>0.670015</td>\n",
              "    </tr>\n",
              "    <tr>\n",
              "      <th>7</th>\n",
              "      <td>-0.758392</td>\n",
              "      <td>18.960861</td>\n",
              "      <td>19.082499</td>\n",
              "      <td>0.395099</td>\n",
              "      <td>18.294041</td>\n",
              "      <td>0.001422</td>\n",
              "      <td>-1.288384</td>\n",
              "      <td>0.706370</td>\n",
              "      <td>24.574949</td>\n",
              "      <td>18.314655</td>\n",
              "      <td>19.850628</td>\n",
              "      <td>0.752035</td>\n",
              "    </tr>\n",
              "    <tr>\n",
              "      <th>8</th>\n",
              "      <td>-0.727128</td>\n",
              "      <td>18.973545</td>\n",
              "      <td>19.085533</td>\n",
              "      <td>0.546623</td>\n",
              "      <td>18.291964</td>\n",
              "      <td>0.000577</td>\n",
              "      <td>-1.490530</td>\n",
              "      <td>0.817339</td>\n",
              "      <td>24.567080</td>\n",
              "      <td>18.306925</td>\n",
              "      <td>19.850626</td>\n",
              "      <td>0.910541</td>\n",
              "    </tr>\n",
              "    <tr>\n",
              "      <th>9</th>\n",
              "      <td>-0.874307</td>\n",
              "      <td>18.987812</td>\n",
              "      <td>19.076025</td>\n",
              "      <td>0.578944</td>\n",
              "      <td>18.287233</td>\n",
              "      <td>-0.001248</td>\n",
              "      <td>-1.634464</td>\n",
              "      <td>0.898013</td>\n",
              "      <td>24.553242</td>\n",
              "      <td>18.301733</td>\n",
              "      <td>19.850624</td>\n",
              "      <td>0.924010</td>\n",
              "    </tr>\n",
              "  </tbody>\n",
              "</table>\n",
              "</div>"
            ],
            "text/plain": [
              "        u_q    coolant  stator_winding  ...  stator_yoke    ambient    torque\n",
              "0 -0.450682  18.805172       19.086670  ...    18.316547  19.850691  0.187101\n",
              "1 -0.325737  18.818571       19.092390  ...    18.314955  19.850672  0.245417\n",
              "2 -0.440864  18.828770       19.089380  ...    18.326307  19.850657  0.176615\n",
              "3 -0.327026  18.835567       19.083031  ...    18.330833  19.850647  0.238303\n",
              "4 -0.471150  18.857033       19.082525  ...    18.326662  19.850639  0.208197\n",
              "5 -0.538973  18.901548       19.077108  ...    18.323862  19.850634  0.476218\n",
              "6 -0.653148  18.941711       19.074583  ...    18.321936  19.850630  0.670015\n",
              "7 -0.758392  18.960861       19.082499  ...    18.314655  19.850628  0.752035\n",
              "8 -0.727128  18.973545       19.085533  ...    18.306925  19.850626  0.910541\n",
              "9 -0.874307  18.987812       19.076025  ...    18.301733  19.850624  0.924010\n",
              "\n",
              "[10 rows x 12 columns]"
            ]
          },
          "metadata": {},
          "execution_count": 6
        }
      ]
    },
    {
      "cell_type": "code",
      "metadata": {
        "colab": {
          "base_uri": "https://localhost:8080/"
        },
        "id": "rZQPP9ihy6w9",
        "outputId": "99b3ac1e-0608-49a5-f8d2-7bda256da5c6"
      },
      "source": [
        "df.info()"
      ],
      "execution_count": null,
      "outputs": [
        {
          "output_type": "stream",
          "name": "stdout",
          "text": [
            "<class 'pandas.core.frame.DataFrame'>\n",
            "RangeIndex: 1330816 entries, 0 to 1330815\n",
            "Data columns (total 12 columns):\n",
            " #   Column          Non-Null Count    Dtype  \n",
            "---  ------          --------------    -----  \n",
            " 0   u_q             1330816 non-null  float64\n",
            " 1   coolant         1330816 non-null  float64\n",
            " 2   stator_winding  1330816 non-null  float64\n",
            " 3   u_d             1330816 non-null  float64\n",
            " 4   stator_tooth    1330816 non-null  float64\n",
            " 5   motor_speed     1330816 non-null  float64\n",
            " 6   i_d             1330816 non-null  float64\n",
            " 7   i_q             1330816 non-null  float64\n",
            " 8   pm              1330816 non-null  float64\n",
            " 9   stator_yoke     1330816 non-null  float64\n",
            " 10  ambient         1330816 non-null  float64\n",
            " 11  torque          1330816 non-null  float64\n",
            "dtypes: float64(12)\n",
            "memory usage: 121.8 MB\n"
          ]
        }
      ]
    },
    {
      "cell_type": "code",
      "metadata": {
        "colab": {
          "base_uri": "https://localhost:8080/",
          "height": 421
        },
        "id": "dzfBwxNWzLHN",
        "outputId": "59d24318-0702-4727-b9d5-c6c3f7609a98"
      },
      "source": [
        "#transpose\n",
        "df.describe().T"
      ],
      "execution_count": null,
      "outputs": [
        {
          "output_type": "execute_result",
          "data": {
            "text/html": [
              "<div>\n",
              "<style scoped>\n",
              "    .dataframe tbody tr th:only-of-type {\n",
              "        vertical-align: middle;\n",
              "    }\n",
              "\n",
              "    .dataframe tbody tr th {\n",
              "        vertical-align: top;\n",
              "    }\n",
              "\n",
              "    .dataframe thead th {\n",
              "        text-align: right;\n",
              "    }\n",
              "</style>\n",
              "<table border=\"1\" class=\"dataframe\">\n",
              "  <thead>\n",
              "    <tr style=\"text-align: right;\">\n",
              "      <th></th>\n",
              "      <th>count</th>\n",
              "      <th>mean</th>\n",
              "      <th>std</th>\n",
              "      <th>min</th>\n",
              "      <th>25%</th>\n",
              "      <th>50%</th>\n",
              "      <th>75%</th>\n",
              "      <th>max</th>\n",
              "    </tr>\n",
              "  </thead>\n",
              "  <tbody>\n",
              "    <tr>\n",
              "      <th>u_q</th>\n",
              "      <td>1330816.0</td>\n",
              "      <td>54.279005</td>\n",
              "      <td>44.173234</td>\n",
              "      <td>-25.290930</td>\n",
              "      <td>12.069925</td>\n",
              "      <td>48.938181</td>\n",
              "      <td>90.034393</td>\n",
              "      <td>133.036994</td>\n",
              "    </tr>\n",
              "    <tr>\n",
              "      <th>coolant</th>\n",
              "      <td>1330816.0</td>\n",
              "      <td>36.229995</td>\n",
              "      <td>21.786149</td>\n",
              "      <td>10.623751</td>\n",
              "      <td>18.698135</td>\n",
              "      <td>26.900141</td>\n",
              "      <td>49.857487</td>\n",
              "      <td>101.598512</td>\n",
              "    </tr>\n",
              "    <tr>\n",
              "      <th>stator_winding</th>\n",
              "      <td>1330816.0</td>\n",
              "      <td>66.342745</td>\n",
              "      <td>28.672061</td>\n",
              "      <td>18.585815</td>\n",
              "      <td>42.787957</td>\n",
              "      <td>65.110129</td>\n",
              "      <td>88.141137</td>\n",
              "      <td>141.362885</td>\n",
              "    </tr>\n",
              "    <tr>\n",
              "      <th>u_d</th>\n",
              "      <td>1330816.0</td>\n",
              "      <td>-25.133809</td>\n",
              "      <td>63.091972</td>\n",
              "      <td>-131.530411</td>\n",
              "      <td>-78.690904</td>\n",
              "      <td>-7.429755</td>\n",
              "      <td>1.470271</td>\n",
              "      <td>131.469788</td>\n",
              "    </tr>\n",
              "    <tr>\n",
              "      <th>stator_tooth</th>\n",
              "      <td>1330816.0</td>\n",
              "      <td>56.878582</td>\n",
              "      <td>22.952233</td>\n",
              "      <td>18.133976</td>\n",
              "      <td>38.416012</td>\n",
              "      <td>56.036345</td>\n",
              "      <td>75.586682</td>\n",
              "      <td>111.946423</td>\n",
              "    </tr>\n",
              "    <tr>\n",
              "      <th>motor_speed</th>\n",
              "      <td>1330816.0</td>\n",
              "      <td>2202.080728</td>\n",
              "      <td>1859.663350</td>\n",
              "      <td>-275.549144</td>\n",
              "      <td>317.110665</td>\n",
              "      <td>1999.976685</td>\n",
              "      <td>3760.639058</td>\n",
              "      <td>6000.015137</td>\n",
              "    </tr>\n",
              "    <tr>\n",
              "      <th>i_d</th>\n",
              "      <td>1330816.0</td>\n",
              "      <td>-68.716810</td>\n",
              "      <td>64.933233</td>\n",
              "      <td>-278.003632</td>\n",
              "      <td>-115.406060</td>\n",
              "      <td>-51.093763</td>\n",
              "      <td>-2.979688</td>\n",
              "      <td>0.051897</td>\n",
              "    </tr>\n",
              "    <tr>\n",
              "      <th>i_q</th>\n",
              "      <td>1330816.0</td>\n",
              "      <td>37.412782</td>\n",
              "      <td>92.181880</td>\n",
              "      <td>-293.426793</td>\n",
              "      <td>1.095863</td>\n",
              "      <td>15.774007</td>\n",
              "      <td>100.612150</td>\n",
              "      <td>301.707855</td>\n",
              "    </tr>\n",
              "    <tr>\n",
              "      <th>pm</th>\n",
              "      <td>1330816.0</td>\n",
              "      <td>58.506776</td>\n",
              "      <td>19.001498</td>\n",
              "      <td>20.856956</td>\n",
              "      <td>43.151582</td>\n",
              "      <td>60.266287</td>\n",
              "      <td>72.008371</td>\n",
              "      <td>113.606628</td>\n",
              "    </tr>\n",
              "    <tr>\n",
              "      <th>stator_yoke</th>\n",
              "      <td>1330816.0</td>\n",
              "      <td>48.187965</td>\n",
              "      <td>19.991004</td>\n",
              "      <td>18.076689</td>\n",
              "      <td>31.990333</td>\n",
              "      <td>45.625509</td>\n",
              "      <td>61.460828</td>\n",
              "      <td>101.147964</td>\n",
              "    </tr>\n",
              "    <tr>\n",
              "      <th>ambient</th>\n",
              "      <td>1330816.0</td>\n",
              "      <td>24.565256</td>\n",
              "      <td>1.929522</td>\n",
              "      <td>8.783478</td>\n",
              "      <td>23.184804</td>\n",
              "      <td>24.797327</td>\n",
              "      <td>26.217019</td>\n",
              "      <td>30.714205</td>\n",
              "    </tr>\n",
              "    <tr>\n",
              "      <th>torque</th>\n",
              "      <td>1330816.0</td>\n",
              "      <td>31.106032</td>\n",
              "      <td>77.135755</td>\n",
              "      <td>-246.466663</td>\n",
              "      <td>-0.137427</td>\n",
              "      <td>10.860354</td>\n",
              "      <td>91.597176</td>\n",
              "      <td>261.005707</td>\n",
              "    </tr>\n",
              "  </tbody>\n",
              "</table>\n",
              "</div>"
            ],
            "text/plain": [
              "                    count         mean  ...          75%          max\n",
              "u_q             1330816.0    54.279005  ...    90.034393   133.036994\n",
              "coolant         1330816.0    36.229995  ...    49.857487   101.598512\n",
              "stator_winding  1330816.0    66.342745  ...    88.141137   141.362885\n",
              "u_d             1330816.0   -25.133809  ...     1.470271   131.469788\n",
              "stator_tooth    1330816.0    56.878582  ...    75.586682   111.946423\n",
              "motor_speed     1330816.0  2202.080728  ...  3760.639058  6000.015137\n",
              "i_d             1330816.0   -68.716810  ...    -2.979688     0.051897\n",
              "i_q             1330816.0    37.412782  ...   100.612150   301.707855\n",
              "pm              1330816.0    58.506776  ...    72.008371   113.606628\n",
              "stator_yoke     1330816.0    48.187965  ...    61.460828   101.147964\n",
              "ambient         1330816.0    24.565256  ...    26.217019    30.714205\n",
              "torque          1330816.0    31.106032  ...    91.597176   261.005707\n",
              "\n",
              "[12 rows x 8 columns]"
            ]
          },
          "metadata": {},
          "execution_count": 8
        }
      ]
    },
    {
      "cell_type": "code",
      "metadata": {
        "colab": {
          "base_uri": "https://localhost:8080/"
        },
        "id": "0Liey-glzNsg",
        "outputId": "d341e1e9-50dc-4308-da33-ec45a19677d3"
      },
      "source": [
        "#to check for null values because if it exists, it will create an unaccurate regression model\n",
        "df.isnull().values.any()"
      ],
      "execution_count": null,
      "outputs": [
        {
          "output_type": "execute_result",
          "data": {
            "text/plain": [
              "False"
            ]
          },
          "metadata": {},
          "execution_count": 9
        }
      ]
    },
    {
      "cell_type": "code",
      "metadata": {
        "colab": {
          "base_uri": "https://localhost:8080/"
        },
        "id": "1LtahT_TzpyH",
        "outputId": "0fa1096d-a8b6-42ba-ac4c-f0489b76a2f5"
      },
      "source": [
        "nans=pd.isnull(df).sum()\n",
        "nans[nans>0]"
      ],
      "execution_count": null,
      "outputs": [
        {
          "output_type": "execute_result",
          "data": {
            "text/plain": [
              "Series([], dtype: int64)"
            ]
          },
          "metadata": {},
          "execution_count": 12
        }
      ]
    },
    {
      "cell_type": "code",
      "metadata": {
        "colab": {
          "base_uri": "https://localhost:8080/"
        },
        "id": "ew_X14_M0C-X",
        "outputId": "d2231d4a-a550-40ba-cd2f-63d50875bb82"
      },
      "source": [
        "df.dtypes.value_counts() #count "
      ],
      "execution_count": null,
      "outputs": [
        {
          "output_type": "execute_result",
          "data": {
            "text/plain": [
              "float64    12\n",
              "dtype: int64"
            ]
          },
          "metadata": {},
          "execution_count": 13
        }
      ]
    },
    {
      "cell_type": "code",
      "metadata": {
        "colab": {
          "base_uri": "https://localhost:8080/",
          "height": 421
        },
        "id": "wuMx7Yen0cfO",
        "outputId": "0ecb3110-9f3c-468f-a9d4-8a897af96dc1"
      },
      "source": [
        "df.corr()"
      ],
      "execution_count": null,
      "outputs": [
        {
          "output_type": "execute_result",
          "data": {
            "text/html": [
              "<div>\n",
              "<style scoped>\n",
              "    .dataframe tbody tr th:only-of-type {\n",
              "        vertical-align: middle;\n",
              "    }\n",
              "\n",
              "    .dataframe tbody tr th {\n",
              "        vertical-align: top;\n",
              "    }\n",
              "\n",
              "    .dataframe thead th {\n",
              "        text-align: right;\n",
              "    }\n",
              "</style>\n",
              "<table border=\"1\" class=\"dataframe\">\n",
              "  <thead>\n",
              "    <tr style=\"text-align: right;\">\n",
              "      <th></th>\n",
              "      <th>u_q</th>\n",
              "      <th>coolant</th>\n",
              "      <th>stator_winding</th>\n",
              "      <th>u_d</th>\n",
              "      <th>stator_tooth</th>\n",
              "      <th>motor_speed</th>\n",
              "      <th>i_d</th>\n",
              "      <th>i_q</th>\n",
              "      <th>pm</th>\n",
              "      <th>stator_yoke</th>\n",
              "      <th>ambient</th>\n",
              "      <th>torque</th>\n",
              "    </tr>\n",
              "  </thead>\n",
              "  <tbody>\n",
              "    <tr>\n",
              "      <th>u_q</th>\n",
              "      <td>1.000000</td>\n",
              "      <td>0.051721</td>\n",
              "      <td>0.050610</td>\n",
              "      <td>0.004702</td>\n",
              "      <td>0.104373</td>\n",
              "      <td>0.683556</td>\n",
              "      <td>-0.100357</td>\n",
              "      <td>-0.124589</td>\n",
              "      <td>0.122365</td>\n",
              "      <td>0.090992</td>\n",
              "      <td>0.150264</td>\n",
              "      <td>-0.136215</td>\n",
              "    </tr>\n",
              "    <tr>\n",
              "      <th>coolant</th>\n",
              "      <td>0.051721</td>\n",
              "      <td>1.000000</td>\n",
              "      <td>0.504835</td>\n",
              "      <td>0.195517</td>\n",
              "      <td>0.674974</td>\n",
              "      <td>0.011872</td>\n",
              "      <td>0.074865</td>\n",
              "      <td>-0.256389</td>\n",
              "      <td>0.467117</td>\n",
              "      <td>0.860750</td>\n",
              "      <td>0.525963</td>\n",
              "      <td>-0.257982</td>\n",
              "    </tr>\n",
              "    <tr>\n",
              "      <th>stator_winding</th>\n",
              "      <td>0.050610</td>\n",
              "      <td>0.504835</td>\n",
              "      <td>1.000000</td>\n",
              "      <td>-0.234950</td>\n",
              "      <td>0.970135</td>\n",
              "      <td>0.432034</td>\n",
              "      <td>-0.624370</td>\n",
              "      <td>0.065617</td>\n",
              "      <td>0.795893</td>\n",
              "      <td>0.860268</td>\n",
              "      <td>0.333208</td>\n",
              "      <td>0.095510</td>\n",
              "    </tr>\n",
              "    <tr>\n",
              "      <th>u_d</th>\n",
              "      <td>0.004702</td>\n",
              "      <td>0.195517</td>\n",
              "      <td>-0.234950</td>\n",
              "      <td>1.000000</td>\n",
              "      <td>-0.142749</td>\n",
              "      <td>-0.288472</td>\n",
              "      <td>0.448331</td>\n",
              "      <td>-0.723069</td>\n",
              "      <td>-0.172031</td>\n",
              "      <td>-0.008098</td>\n",
              "      <td>0.203647</td>\n",
              "      <td>-0.753779</td>\n",
              "    </tr>\n",
              "    <tr>\n",
              "      <th>stator_tooth</th>\n",
              "      <td>0.104373</td>\n",
              "      <td>0.674974</td>\n",
              "      <td>0.970135</td>\n",
              "      <td>-0.142749</td>\n",
              "      <td>1.000000</td>\n",
              "      <td>0.398431</td>\n",
              "      <td>-0.487062</td>\n",
              "      <td>-0.042294</td>\n",
              "      <td>0.832084</td>\n",
              "      <td>0.953115</td>\n",
              "      <td>0.443470</td>\n",
              "      <td>-0.018413</td>\n",
              "    </tr>\n",
              "    <tr>\n",
              "      <th>motor_speed</th>\n",
              "      <td>0.683556</td>\n",
              "      <td>0.011872</td>\n",
              "      <td>0.432034</td>\n",
              "      <td>-0.288472</td>\n",
              "      <td>0.398431</td>\n",
              "      <td>1.000000</td>\n",
              "      <td>-0.700609</td>\n",
              "      <td>-0.068881</td>\n",
              "      <td>0.458947</td>\n",
              "      <td>0.255790</td>\n",
              "      <td>0.118232</td>\n",
              "      <td>-0.043903</td>\n",
              "    </tr>\n",
              "    <tr>\n",
              "      <th>i_d</th>\n",
              "      <td>-0.100357</td>\n",
              "      <td>0.074865</td>\n",
              "      <td>-0.624370</td>\n",
              "      <td>0.448331</td>\n",
              "      <td>-0.487062</td>\n",
              "      <td>-0.700609</td>\n",
              "      <td>1.000000</td>\n",
              "      <td>-0.231344</td>\n",
              "      <td>-0.427736</td>\n",
              "      <td>-0.278005</td>\n",
              "      <td>0.016397</td>\n",
              "      <td>-0.274097</td>\n",
              "    </tr>\n",
              "    <tr>\n",
              "      <th>i_q</th>\n",
              "      <td>-0.124589</td>\n",
              "      <td>-0.256389</td>\n",
              "      <td>0.065617</td>\n",
              "      <td>-0.723069</td>\n",
              "      <td>-0.042294</td>\n",
              "      <td>-0.068881</td>\n",
              "      <td>-0.231344</td>\n",
              "      <td>1.000000</td>\n",
              "      <td>-0.142416</td>\n",
              "      <td>-0.131466</td>\n",
              "      <td>-0.314044</td>\n",
              "      <td>0.996457</td>\n",
              "    </tr>\n",
              "    <tr>\n",
              "      <th>pm</th>\n",
              "      <td>0.122365</td>\n",
              "      <td>0.467117</td>\n",
              "      <td>0.795893</td>\n",
              "      <td>-0.172031</td>\n",
              "      <td>0.832084</td>\n",
              "      <td>0.458947</td>\n",
              "      <td>-0.427736</td>\n",
              "      <td>-0.142416</td>\n",
              "      <td>1.000000</td>\n",
              "      <td>0.756684</td>\n",
              "      <td>0.513728</td>\n",
              "      <td>-0.117138</td>\n",
              "    </tr>\n",
              "    <tr>\n",
              "      <th>stator_yoke</th>\n",
              "      <td>0.090992</td>\n",
              "      <td>0.860750</td>\n",
              "      <td>0.860268</td>\n",
              "      <td>-0.008098</td>\n",
              "      <td>0.953115</td>\n",
              "      <td>0.255790</td>\n",
              "      <td>-0.278005</td>\n",
              "      <td>-0.131466</td>\n",
              "      <td>0.756684</td>\n",
              "      <td>1.000000</td>\n",
              "      <td>0.520382</td>\n",
              "      <td>-0.117118</td>\n",
              "    </tr>\n",
              "    <tr>\n",
              "      <th>ambient</th>\n",
              "      <td>0.150264</td>\n",
              "      <td>0.525963</td>\n",
              "      <td>0.333208</td>\n",
              "      <td>0.203647</td>\n",
              "      <td>0.443470</td>\n",
              "      <td>0.118232</td>\n",
              "      <td>0.016397</td>\n",
              "      <td>-0.314044</td>\n",
              "      <td>0.513728</td>\n",
              "      <td>0.520382</td>\n",
              "      <td>1.000000</td>\n",
              "      <td>-0.315747</td>\n",
              "    </tr>\n",
              "    <tr>\n",
              "      <th>torque</th>\n",
              "      <td>-0.136215</td>\n",
              "      <td>-0.257982</td>\n",
              "      <td>0.095510</td>\n",
              "      <td>-0.753779</td>\n",
              "      <td>-0.018413</td>\n",
              "      <td>-0.043903</td>\n",
              "      <td>-0.274097</td>\n",
              "      <td>0.996457</td>\n",
              "      <td>-0.117138</td>\n",
              "      <td>-0.117118</td>\n",
              "      <td>-0.315747</td>\n",
              "      <td>1.000000</td>\n",
              "    </tr>\n",
              "  </tbody>\n",
              "</table>\n",
              "</div>"
            ],
            "text/plain": [
              "                     u_q   coolant  ...   ambient    torque\n",
              "u_q             1.000000  0.051721  ...  0.150264 -0.136215\n",
              "coolant         0.051721  1.000000  ...  0.525963 -0.257982\n",
              "stator_winding  0.050610  0.504835  ...  0.333208  0.095510\n",
              "u_d             0.004702  0.195517  ...  0.203647 -0.753779\n",
              "stator_tooth    0.104373  0.674974  ...  0.443470 -0.018413\n",
              "motor_speed     0.683556  0.011872  ...  0.118232 -0.043903\n",
              "i_d            -0.100357  0.074865  ...  0.016397 -0.274097\n",
              "i_q            -0.124589 -0.256389  ... -0.314044  0.996457\n",
              "pm              0.122365  0.467117  ...  0.513728 -0.117138\n",
              "stator_yoke     0.090992  0.860750  ...  0.520382 -0.117118\n",
              "ambient         0.150264  0.525963  ...  1.000000 -0.315747\n",
              "torque         -0.136215 -0.257982  ... -0.315747  1.000000\n",
              "\n",
              "[12 rows x 12 columns]"
            ]
          },
          "metadata": {},
          "execution_count": 14
        }
      ]
    },
    {
      "cell_type": "code",
      "metadata": {
        "colab": {
          "base_uri": "https://localhost:8080/",
          "height": 458
        },
        "id": "aA01y4rY0elh",
        "outputId": "ba8eea2b-646c-48c7-88a7-78d56bf61cde"
      },
      "source": [
        "#to plot graphs\n",
        "import seaborn as sns \n",
        "sns.jointplot(x='stator_winding', y='pm', data=df, kind='reg')"
      ],
      "execution_count": null,
      "outputs": [
        {
          "output_type": "execute_result",
          "data": {
            "text/plain": [
              "<seaborn.axisgrid.JointGrid at 0x7f4fdf0d9b90>"
            ]
          },
          "metadata": {},
          "execution_count": 15
        },
        {
          "output_type": "display_data",
          "data": {
            "image/png": "[encoded data removed]",
            "text/plain": [
              "<Figure size 432x432 with 3 Axes>"
            ]
          },
          "metadata": {
            "needs_background": "light"
          }
        }
      ]
    },
    {
      "cell_type": "code",
      "metadata": {
        "colab": {
          "base_uri": "https://localhost:8080/",
          "height": 710
        },
        "id": "RnM70zXS1Vf3",
        "outputId": "15dcb09a-a2e5-49a5-a9f8-7d771964c52b"
      },
      "source": [
        "#to get out the correlation from the features\n",
        "f, ax=plt.subplots(figsize=(12,12))\n",
        "corr=df.corr()\n",
        "\n",
        "sns.heatmap(corr, annot=True, linewidths=.5, fmt='.2f', mask= np.zeros_like(corr,dtype=np.bool), cmap=sns.diverging_palette(100,200, as_cmap=True), square=True, ax=ax)\n",
        "\n",
        "plt.show()"
      ],
      "execution_count": null,
      "outputs": [
        {
          "output_type": "display_data",
          "data": {
            "image/png": "[encoded data removed]",
            "text/plain": [
              "<Figure size 864x864 with 2 Axes>"
            ]
          },
          "metadata": {
            "needs_background": "light"
          }
        }
      ]
    },
    {
      "cell_type": "code",
      "metadata": {
        "colab": {
          "base_uri": "https://localhost:8080/",
          "height": 498
        },
        "id": "eB0VN6go2hkG",
        "outputId": "cacd0a13-b7f3-4698-c4a3-7404f036b2bd"
      },
      "source": [
        "#to estimate different statistical models and conduct statistical test as well as data\n",
        "import statsmodels.api as sm\n",
        "#Defining dependet and independent variable\n",
        "X = df['stator_winding']\n",
        "X=sm.add_constant(X)\n",
        "\n",
        "y = df['pm']\n",
        "\n",
        "#ordinary least squares. it is used to check inconsistent and different values\n",
        "lm=sm.OLS(y,X)\n",
        "model=lm.fit()\n",
        "\n",
        "model.summary()"
      ],
      "execution_count": null,
      "outputs": [
        {
          "output_type": "stream",
          "name": "stderr",
          "text": [
            "/usr/local/lib/python3.7/dist-packages/statsmodels/tools/_testing.py:19: FutureWarning: pandas.util.testing is deprecated. Use the functions in the public API at pandas.testing instead.\n",
            "  import pandas.util.testing as tm\n"
          ]
        },
        {
          "output_type": "execute_result",
          "data": {
            "text/html": [
              "<table class=\"simpletable\">\n",
              "<caption>OLS Regression Results</caption>\n",
              "<tr>\n",
              "  <th>Dep. Variable:</th>           <td>pm</td>        <th>  R-squared:         </th>  <td>   0.633</td>  \n",
              "</tr>\n",
              "<tr>\n",
              "  <th>Model:</th>                   <td>OLS</td>       <th>  Adj. R-squared:    </th>  <td>   0.633</td>  \n",
              "</tr>\n",
              "<tr>\n",
              "  <th>Method:</th>             <td>Least Squares</td>  <th>  F-statistic:       </th>  <td>2.300e+06</td> \n",
              "</tr>\n",
              "<tr>\n",
              "  <th>Date:</th>             <td>Fri, 22 Oct 2021</td> <th>  Prob (F-statistic):</th>   <td>  0.00</td>   \n",
              "</tr>\n",
              "<tr>\n",
              "  <th>Time:</th>                 <td>01:40:40</td>     <th>  Log-Likelihood:    </th> <td>-5.1391e+06</td>\n",
              "</tr>\n",
              "<tr>\n",
              "  <th>No. Observations:</th>      <td>1330816</td>     <th>  AIC:               </th>  <td>1.028e+07</td> \n",
              "</tr>\n",
              "<tr>\n",
              "  <th>Df Residuals:</th>          <td>1330814</td>     <th>  BIC:               </th>  <td>1.028e+07</td> \n",
              "</tr>\n",
              "<tr>\n",
              "  <th>Df Model:</th>              <td>     1</td>      <th>                     </th>      <td> </td>     \n",
              "</tr>\n",
              "<tr>\n",
              "  <th>Covariance Type:</th>      <td>nonrobust</td>    <th>                     </th>      <td> </td>     \n",
              "</tr>\n",
              "</table>\n",
              "<table class=\"simpletable\">\n",
              "<tr>\n",
              "         <td></td>           <th>coef</th>     <th>std err</th>      <th>t</th>      <th>P>|t|</th>  <th>[0.025</th>    <th>0.975]</th>  \n",
              "</tr>\n",
              "<tr>\n",
              "  <th>const</th>          <td>   23.5141</td> <td>    0.025</td> <td>  935.428</td> <td> 0.000</td> <td>   23.465</td> <td>   23.563</td>\n",
              "</tr>\n",
              "<tr>\n",
              "  <th>stator_winding</th> <td>    0.5275</td> <td>    0.000</td> <td> 1516.504</td> <td> 0.000</td> <td>    0.527</td> <td>    0.528</td>\n",
              "</tr>\n",
              "</table>\n",
              "<table class=\"simpletable\">\n",
              "<tr>\n",
              "  <th>Omnibus:</th>       <td>99709.506</td> <th>  Durbin-Watson:     </th>  <td>   0.000</td> \n",
              "</tr>\n",
              "<tr>\n",
              "  <th>Prob(Omnibus):</th>  <td> 0.000</td>   <th>  Jarque-Bera (JB):  </th> <td>254026.525</td>\n",
              "</tr>\n",
              "<tr>\n",
              "  <th>Skew:</th>           <td>-0.445</td>   <th>  Prob(JB):          </th>  <td>    0.00</td> \n",
              "</tr>\n",
              "<tr>\n",
              "  <th>Kurtosis:</th>       <td> 4.947</td>   <th>  Cond. No.          </th>  <td>    182.</td> \n",
              "</tr>\n",
              "</table><br/><br/>Warnings:<br/>[1] Standard Errors assume that the covariance matrix of the errors is correctly specified."
            ],
            "text/plain": [
              "<class 'statsmodels.iolib.summary.Summary'>\n",
              "\"\"\"\n",
              "                            OLS Regression Results                            \n",
              "==============================================================================\n",
              "Dep. Variable:                     pm   R-squared:                       0.633\n",
              "Model:                            OLS   Adj. R-squared:                  0.633\n",
              "Method:                 Least Squares   F-statistic:                 2.300e+06\n",
              "Date:                Fri, 22 Oct 2021   Prob (F-statistic):               0.00\n",
              "Time:                        01:40:40   Log-Likelihood:            -5.1391e+06\n",
              "No. Observations:             1330816   AIC:                         1.028e+07\n",
              "Df Residuals:                 1330814   BIC:                         1.028e+07\n",
              "Df Model:                           1                                         \n",
              "Covariance Type:            nonrobust                                         \n",
              "==================================================================================\n",
              "                     coef    std err          t      P>|t|      [0.025      0.975]\n",
              "----------------------------------------------------------------------------------\n",
              "const             23.5141      0.025    935.428      0.000      23.465      23.563\n",
              "stator_winding     0.5275      0.000   1516.504      0.000       0.527       0.528\n",
              "==============================================================================\n",
              "Omnibus:                    99709.506   Durbin-Watson:                   0.000\n",
              "Prob(Omnibus):                  0.000   Jarque-Bera (JB):           254026.525\n",
              "Skew:                          -0.445   Prob(JB):                         0.00\n",
              "Kurtosis:                       4.947   Cond. No.                         182.\n",
              "==============================================================================\n",
              "\n",
              "Warnings:\n",
              "[1] Standard Errors assume that the covariance matrix of the errors is correctly specified.\n",
              "\"\"\""
            ]
          },
          "metadata": {},
          "execution_count": 17
        }
      ]
    },
    {
      "cell_type": "code",
      "metadata": {
        "colab": {
          "base_uri": "https://localhost:8080/"
        },
        "id": "Ur6vskqg30RH",
        "outputId": "f97e198b-3c18-4a00-a733-e5d5f0c2e877"
      },
      "source": [
        "model.params"
      ],
      "execution_count": null,
      "outputs": [
        {
          "output_type": "execute_result",
          "data": {
            "text/plain": [
              "const             23.514130\n",
              "stator_winding     0.527452\n",
              "dtype: float64"
            ]
          },
          "metadata": {},
          "execution_count": 18
        }
      ]
    },
    {
      "cell_type": "code",
      "metadata": {
        "colab": {
          "base_uri": "https://localhost:8080/"
        },
        "id": "k-GwwCe239bc",
        "outputId": "8310b899-0b65-4efc-aab5-625eaa7dde79"
      },
      "source": [
        "model.mse_model #mean squared error is too much. It is not good."
      ],
      "execution_count": null,
      "outputs": [
        {
          "output_type": "execute_result",
          "data": {
            "text/plain": [
              "304370245.0472444"
            ]
          },
          "metadata": {},
          "execution_count": 19
        }
      ]
    },
    {
      "cell_type": "code",
      "metadata": {
        "colab": {
          "base_uri": "https://localhost:8080/"
        },
        "id": "sJLiAwLG4G-O",
        "outputId": "801c27f5-0a79-410e-d735-37dca7e1b477"
      },
      "source": [
        "model.rsquared #Not bad"
      ],
      "execution_count": null,
      "outputs": [
        {
          "output_type": "execute_result",
          "data": {
            "text/plain": [
              "0.6334448930776385"
            ]
          },
          "metadata": {},
          "execution_count": 20
        }
      ]
    },
    {
      "cell_type": "code",
      "metadata": {
        "colab": {
          "base_uri": "https://localhost:8080/"
        },
        "id": "wTUc7hyB4LTC",
        "outputId": "f2e8aaac-37d4-4f81-d05a-fde42fa8b6ba"
      },
      "source": [
        "model.rsquared_adj #Not bad"
      ],
      "execution_count": null,
      "outputs": [
        {
          "output_type": "execute_result",
          "data": {
            "text/plain": [
              "0.6334446176408706"
            ]
          },
          "metadata": {},
          "execution_count": 21
        }
      ]
    },
    {
      "cell_type": "code",
      "metadata": {
        "colab": {
          "base_uri": "https://localhost:8080/"
        },
        "id": "EAjCqRkD4PQC",
        "outputId": "f1aa80e9-e158-4d3e-adbf-ac826b5ff783"
      },
      "source": [
        "model.fittedvalues[0:5] #Predicted values"
      ],
      "execution_count": null,
      "outputs": [
        {
          "output_type": "execute_result",
          "data": {
            "text/plain": [
              "0    33.581441\n",
              "1    33.584458\n",
              "2    33.582871\n",
              "3    33.579522\n",
              "4    33.579255\n",
              "dtype: float64"
            ]
          },
          "metadata": {},
          "execution_count": 22
        }
      ]
    },
    {
      "cell_type": "code",
      "metadata": {
        "colab": {
          "base_uri": "https://localhost:8080/"
        },
        "id": "YnTX2VWA4URz",
        "outputId": "d0d4dd7d-f0f4-4bf9-af16-935e0ccf53a1"
      },
      "source": [
        "y[0:5] #Real values"
      ],
      "execution_count": null,
      "outputs": [
        {
          "output_type": "execute_result",
          "data": {
            "text/plain": [
              "0    24.554214\n",
              "1    24.538078\n",
              "2    24.544693\n",
              "3    24.554018\n",
              "4    24.565397\n",
              "Name: pm, dtype: float64"
            ]
          },
          "metadata": {},
          "execution_count": 23
        }
      ]
    },
    {
      "cell_type": "code",
      "metadata": {
        "colab": {
          "base_uri": "https://localhost:8080/"
        },
        "id": "1vwPGKIz4YD5",
        "outputId": "bb559ead-9984-4a2d-9bde-854e8ac01df6"
      },
      "source": [
        "#Model equation -> y = mx + c\n",
        "print(\"pm = \" + \n",
        "      str(\"%.3f\" % model.params[0]) + ' + stator_winding' + \"*\" + \n",
        "      str(\"%.3f\" % model.params[1]))"
      ],
      "execution_count": null,
      "outputs": [
        {
          "output_type": "stream",
          "name": "stdout",
          "text": [
            "pm = 23.514 + i_d*0.527\n"
          ]
        }
      ]
    },
    {
      "cell_type": "code",
      "metadata": {
        "colab": {
          "base_uri": "https://localhost:8080/",
          "height": 350
        },
        "id": "VKhMg0O15H2o",
        "outputId": "2c52c087-7c3c-4803-b404-066d20f02c15"
      },
      "source": [
        "#Model Visualization \n",
        "g=sns.regplot(df['stator_winding'] , df['pm'], \n",
        "              ci=None, scatter_kws={'color': 'r', 's':9})\n",
        "g.set_title('Model equation: pm = -0.002 + stator_winding * -0.725')\n",
        "g.set_ylabel('pm')\n",
        "g.set_xlabel('stator_winding');"
      ],
      "execution_count": null,
      "outputs": [
        {
          "output_type": "stream",
          "name": "stderr",
          "text": [
            "/usr/local/lib/python3.7/dist-packages/seaborn/_decorators.py:43: FutureWarning: Pass the following variables as keyword args: x, y. From version 0.12, the only valid positional argument will be `data`, and passing other arguments without an explicit keyword will result in an error or misinterpretation.\n",
            "  FutureWarning\n"
          ]
        },
        {
          "output_type": "display_data",
          "data": {
            "image/png": "[encoded data removed]",
            "text/plain": [
              "<Figure size 432x288 with 1 Axes>"
            ]
          },
          "metadata": {
            "needs_background": "light"
          }
        }
      ]
    },
    {
      "cell_type": "code",
      "metadata": {
        "colab": {
          "base_uri": "https://localhost:8080/"
        },
        "id": "x0N-2OWz5bSX",
        "outputId": "f43fc5be-b603-431e-8669-b1e1fa25217f"
      },
      "source": [
        "#performance matrix, it is used in regression to predict a number\n",
        "from sklearn.metrics import r2_score,mean_squared_error\n",
        "\n",
        "mse=mean_squared_error(y, model.fittedvalues)\n",
        "rmse=np.sqrt(mse)\n",
        "rmse"
      ],
      "execution_count": null,
      "outputs": [
        {
          "output_type": "execute_result",
          "data": {
            "text/plain": [
              "11.50422343193371"
            ]
          },
          "metadata": {},
          "execution_count": 26
        }
      ]
    },
    {
      "cell_type": "code",
      "metadata": {
        "colab": {
          "base_uri": "https://localhost:8080/",
          "height": 204
        },
        "id": "cXdipGEn5oRw",
        "outputId": "90e0e67c-7873-49cc-e4c7-2646902ba71b"
      },
      "source": [
        "k_t=pd.DataFrame({'Real_values':y[0:50], \n",
        "                  'Predicted_values' :model.fittedvalues[0:50]})\n",
        "k_t['error']=k_t['Real_values']-k_t['Predicted_values']\n",
        "k_t.head()"
      ],
      "execution_count": null,
      "outputs": [
        {
          "output_type": "execute_result",
          "data": {
            "text/html": [
              "<div>\n",
              "<style scoped>\n",
              "    .dataframe tbody tr th:only-of-type {\n",
              "        vertical-align: middle;\n",
              "    }\n",
              "\n",
              "    .dataframe tbody tr th {\n",
              "        vertical-align: top;\n",
              "    }\n",
              "\n",
              "    .dataframe thead th {\n",
              "        text-align: right;\n",
              "    }\n",
              "</style>\n",
              "<table border=\"1\" class=\"dataframe\">\n",
              "  <thead>\n",
              "    <tr style=\"text-align: right;\">\n",
              "      <th></th>\n",
              "      <th>Real_values</th>\n",
              "      <th>Predicted_values</th>\n",
              "      <th>error</th>\n",
              "    </tr>\n",
              "  </thead>\n",
              "  <tbody>\n",
              "    <tr>\n",
              "      <th>0</th>\n",
              "      <td>24.554214</td>\n",
              "      <td>33.581441</td>\n",
              "      <td>-9.027227</td>\n",
              "    </tr>\n",
              "    <tr>\n",
              "      <th>1</th>\n",
              "      <td>24.538078</td>\n",
              "      <td>33.584458</td>\n",
              "      <td>-9.046380</td>\n",
              "    </tr>\n",
              "    <tr>\n",
              "      <th>2</th>\n",
              "      <td>24.544693</td>\n",
              "      <td>33.582871</td>\n",
              "      <td>-9.038178</td>\n",
              "    </tr>\n",
              "    <tr>\n",
              "      <th>3</th>\n",
              "      <td>24.554018</td>\n",
              "      <td>33.579522</td>\n",
              "      <td>-9.025504</td>\n",
              "    </tr>\n",
              "    <tr>\n",
              "      <th>4</th>\n",
              "      <td>24.565397</td>\n",
              "      <td>33.579255</td>\n",
              "      <td>-9.013858</td>\n",
              "    </tr>\n",
              "  </tbody>\n",
              "</table>\n",
              "</div>"
            ],
            "text/plain": [
              "   Real_values  Predicted_values     error\n",
              "0    24.554214         33.581441 -9.027227\n",
              "1    24.538078         33.584458 -9.046380\n",
              "2    24.544693         33.582871 -9.038178\n",
              "3    24.554018         33.579522 -9.025504\n",
              "4    24.565397         33.579255 -9.013858"
            ]
          },
          "metadata": {},
          "execution_count": 27
        }
      ]
    },
    {
      "cell_type": "code",
      "metadata": {
        "id": "ZkAJMn7p5q5g"
      },
      "source": [
        "#moving to multiple linear regression where all the independent values are in x while the dependent value is in y\n",
        "X=df.drop(\"pm\", axis=1)\n",
        "#drop the main dependent value\n",
        "y=df[\"pm\"]"
      ],
      "execution_count": null,
      "outputs": []
    },
    {
      "cell_type": "code",
      "metadata": {
        "id": "fLe7Fu4a6Q8p"
      },
      "source": [
        "from sklearn.model_selection import train_test_split,cross_val_score,cross_val_predict\n",
        "\n",
        "X_train,X_test,y_train,y_test=train_test_split(X,y,test_size=0.2, random_state=42)\n",
        "\n",
        "training=df.copy()"
      ],
      "execution_count": null,
      "outputs": []
    },
    {
      "cell_type": "code",
      "metadata": {
        "colab": {
          "base_uri": "https://localhost:8080/",
          "height": 667
        },
        "id": "Aqlqg8Zr6xaP",
        "outputId": "b7bea0f2-fb8d-495f-9be9-5466cafc07ec"
      },
      "source": [
        "lm=sm.OLS(y_train, X_train)\n",
        "\n",
        "model=lm.fit()\n",
        "model.summary() #All coefficients are significant for the model by looking at the p-value. ( P>|t| )"
      ],
      "execution_count": null,
      "outputs": [
        {
          "output_type": "execute_result",
          "data": {
            "text/html": [
              "<table class=\"simpletable\">\n",
              "<caption>OLS Regression Results</caption>\n",
              "<tr>\n",
              "  <th>Dep. Variable:</th>           <td>pm</td>        <th>  R-squared (uncentered):</th>       <td>   0.986</td>  \n",
              "</tr>\n",
              "<tr>\n",
              "  <th>Model:</th>                   <td>OLS</td>       <th>  Adj. R-squared (uncentered):</th>  <td>   0.986</td>  \n",
              "</tr>\n",
              "<tr>\n",
              "  <th>Method:</th>             <td>Least Squares</td>  <th>  F-statistic:       </th>           <td>6.698e+06</td> \n",
              "</tr>\n",
              "<tr>\n",
              "  <th>Date:</th>             <td>Fri, 22 Oct 2021</td> <th>  Prob (F-statistic):</th>            <td>  0.00</td>   \n",
              "</tr>\n",
              "<tr>\n",
              "  <th>Time:</th>                 <td>01:41:22</td>     <th>  Log-Likelihood:    </th>          <td>-3.6329e+06</td>\n",
              "</tr>\n",
              "<tr>\n",
              "  <th>No. Observations:</th>      <td>1064652</td>     <th>  AIC:               </th>           <td>7.266e+06</td> \n",
              "</tr>\n",
              "<tr>\n",
              "  <th>Df Residuals:</th>          <td>1064641</td>     <th>  BIC:               </th>           <td>7.266e+06</td> \n",
              "</tr>\n",
              "<tr>\n",
              "  <th>Df Model:</th>              <td>    11</td>      <th>                     </th>               <td> </td>     \n",
              "</tr>\n",
              "<tr>\n",
              "  <th>Covariance Type:</th>      <td>nonrobust</td>    <th>                     </th>               <td> </td>     \n",
              "</tr>\n",
              "</table>\n",
              "<table class=\"simpletable\">\n",
              "<tr>\n",
              "         <td></td>           <th>coef</th>     <th>std err</th>      <th>t</th>      <th>P>|t|</th>  <th>[0.025</th>    <th>0.975]</th>  \n",
              "</tr>\n",
              "<tr>\n",
              "  <th>u_q</th>            <td>   -0.1302</td> <td>    0.000</td> <td> -349.196</td> <td> 0.000</td> <td>   -0.131</td> <td>   -0.129</td>\n",
              "</tr>\n",
              "<tr>\n",
              "  <th>coolant</th>        <td>   -0.1728</td> <td>    0.002</td> <td>  -77.707</td> <td> 0.000</td> <td>   -0.177</td> <td>   -0.168</td>\n",
              "</tr>\n",
              "<tr>\n",
              "  <th>stator_winding</th> <td>   -1.7088</td> <td>    0.003</td> <td> -489.677</td> <td> 0.000</td> <td>   -1.716</td> <td>   -1.702</td>\n",
              "</tr>\n",
              "<tr>\n",
              "  <th>u_d</th>            <td>   -0.0190</td> <td>    0.000</td> <td>  -77.030</td> <td> 0.000</td> <td>   -0.020</td> <td>   -0.019</td>\n",
              "</tr>\n",
              "<tr>\n",
              "  <th>stator_tooth</th>   <td>    4.1713</td> <td>    0.009</td> <td>  484.799</td> <td> 0.000</td> <td>    4.154</td> <td>    4.188</td>\n",
              "</tr>\n",
              "<tr>\n",
              "  <th>motor_speed</th>    <td>    0.0028</td> <td> 1.49e-05</td> <td>  185.992</td> <td> 0.000</td> <td>    0.003</td> <td>    0.003</td>\n",
              "</tr>\n",
              "<tr>\n",
              "  <th>i_d</th>            <td>    0.0382</td> <td>    0.000</td> <td>  108.094</td> <td> 0.000</td> <td>    0.037</td> <td>    0.039</td>\n",
              "</tr>\n",
              "<tr>\n",
              "  <th>i_q</th>            <td>   -0.0068</td> <td>    0.001</td> <td>   -5.475</td> <td> 0.000</td> <td>   -0.009</td> <td>   -0.004</td>\n",
              "</tr>\n",
              "<tr>\n",
              "  <th>stator_yoke</th>    <td>   -1.6443</td> <td>    0.008</td> <td> -212.770</td> <td> 0.000</td> <td>   -1.659</td> <td>   -1.629</td>\n",
              "</tr>\n",
              "<tr>\n",
              "  <th>ambient</th>        <td>    0.9625</td> <td>    0.001</td> <td>  979.072</td> <td> 0.000</td> <td>    0.961</td> <td>    0.964</td>\n",
              "</tr>\n",
              "<tr>\n",
              "  <th>torque</th>         <td>   -0.0028</td> <td>    0.002</td> <td>   -1.765</td> <td> 0.078</td> <td>   -0.006</td> <td>    0.000</td>\n",
              "</tr>\n",
              "</table>\n",
              "<table class=\"simpletable\">\n",
              "<tr>\n",
              "  <th>Omnibus:</th>       <td>99900.340</td> <th>  Durbin-Watson:     </th>  <td>   2.000</td> \n",
              "</tr>\n",
              "<tr>\n",
              "  <th>Prob(Omnibus):</th>  <td> 0.000</td>   <th>  Jarque-Bera (JB):  </th> <td>290410.683</td>\n",
              "</tr>\n",
              "<tr>\n",
              "  <th>Skew:</th>           <td> 0.512</td>   <th>  Prob(JB):          </th>  <td>    0.00</td> \n",
              "</tr>\n",
              "<tr>\n",
              "  <th>Kurtosis:</th>       <td> 5.345</td>   <th>  Cond. No.          </th>  <td>4.75e+03</td> \n",
              "</tr>\n",
              "</table><br/><br/>Warnings:<br/>[1] Standard Errors assume that the covariance matrix of the errors is correctly specified.<br/>[2] The condition number is large, 4.75e+03. This might indicate that there are<br/>strong multicollinearity or other numerical problems."
            ],
            "text/plain": [
              "<class 'statsmodels.iolib.summary.Summary'>\n",
              "\"\"\"\n",
              "                                 OLS Regression Results                                \n",
              "=======================================================================================\n",
              "Dep. Variable:                     pm   R-squared (uncentered):                   0.986\n",
              "Model:                            OLS   Adj. R-squared (uncentered):              0.986\n",
              "Method:                 Least Squares   F-statistic:                          6.698e+06\n",
              "Date:                Fri, 22 Oct 2021   Prob (F-statistic):                        0.00\n",
              "Time:                        01:41:22   Log-Likelihood:                     -3.6329e+06\n",
              "No. Observations:             1064652   AIC:                                  7.266e+06\n",
              "Df Residuals:                 1064641   BIC:                                  7.266e+06\n",
              "Df Model:                          11                                                  \n",
              "Covariance Type:            nonrobust                                                  \n",
              "==================================================================================\n",
              "                     coef    std err          t      P>|t|      [0.025      0.975]\n",
              "----------------------------------------------------------------------------------\n",
              "u_q               -0.1302      0.000   -349.196      0.000      -0.131      -0.129\n",
              "coolant           -0.1728      0.002    -77.707      0.000      -0.177      -0.168\n",
              "stator_winding    -1.7088      0.003   -489.677      0.000      -1.716      -1.702\n",
              "u_d               -0.0190      0.000    -77.030      0.000      -0.020      -0.019\n",
              "stator_tooth       4.1713      0.009    484.799      0.000       4.154       4.188\n",
              "motor_speed        0.0028   1.49e-05    185.992      0.000       0.003       0.003\n",
              "i_d                0.0382      0.000    108.094      0.000       0.037       0.039\n",
              "i_q               -0.0068      0.001     -5.475      0.000      -0.009      -0.004\n",
              "stator_yoke       -1.6443      0.008   -212.770      0.000      -1.659      -1.629\n",
              "ambient            0.9625      0.001    979.072      0.000       0.961       0.964\n",
              "torque            -0.0028      0.002     -1.765      0.078      -0.006       0.000\n",
              "==============================================================================\n",
              "Omnibus:                    99900.340   Durbin-Watson:                   2.000\n",
              "Prob(Omnibus):                  0.000   Jarque-Bera (JB):           290410.683\n",
              "Skew:                           0.512   Prob(JB):                         0.00\n",
              "Kurtosis:                       5.345   Cond. No.                     4.75e+03\n",
              "==============================================================================\n",
              "\n",
              "Warnings:\n",
              "[1] Standard Errors assume that the covariance matrix of the errors is correctly specified.\n",
              "[2] The condition number is large, 4.75e+03. This might indicate that there are\n",
              "strong multicollinearity or other numerical problems.\n",
              "\"\"\""
            ]
          },
          "metadata": {},
          "execution_count": 30
        }
      ]
    },
    {
      "cell_type": "code",
      "metadata": {
        "colab": {
          "base_uri": "https://localhost:8080/"
        },
        "id": "iSnR1CNx7eUO",
        "outputId": "846bbc8a-41a1-4182-c87d-a14aac8017a5"
      },
      "source": [
        "#Root Mean Squared Error for Train\n",
        "#y train's predicted values are x-train\n",
        "rmse1=np.sqrt(mean_squared_error(y_train,model.predict(X_train)))\n",
        "rmse1"
      ],
      "execution_count": null,
      "outputs": [
        {
          "output_type": "execute_result",
          "data": {
            "text/plain": [
              "7.339923198903453"
            ]
          },
          "metadata": {},
          "execution_count": 31
        }
      ]
    },
    {
      "cell_type": "code",
      "metadata": {
        "colab": {
          "base_uri": "https://localhost:8080/"
        },
        "id": "P7vjrzSM7ns7",
        "outputId": "3b1776b7-0f73-458b-9159-112ddec7dd25"
      },
      "source": [
        "#Root Mean Squared Error for Test\n",
        "rmse2=np.sqrt(mean_squared_error(y_test,model.predict(X_test)))\n",
        "rmse2"
      ],
      "execution_count": null,
      "outputs": [
        {
          "output_type": "execute_result",
          "data": {
            "text/plain": [
              "7.352448782986941"
            ]
          },
          "metadata": {},
          "execution_count": 32
        }
      ]
    },
    {
      "cell_type": "code",
      "metadata": {
        "colab": {
          "base_uri": "https://localhost:8080/"
        },
        "id": "cRqWvwWh8AO8",
        "outputId": "1667ae5f-a9e0-42be-a7a9-f87a204a0e79"
      },
      "source": [
        "#Model Tuning for Multiple Linear Regression\n",
        "model = LinearRegression().fit(X_train,y_train)\n",
        "cross_val_score1=cross_val_score(model, X_train, y_train, cv=10, scoring='r2').mean() #verified score value for train model\n",
        "print('Verified R2 value for Training model: ' + str(cross_val_score1))\n",
        "\n",
        "#cross-validation is done to reduce overfitting. Overfitting leads to misleading performance, resulting in poor accuracy\n",
        "cross_val_score2=cross_val_score(model, X_test, y_test, cv=10, scoring='r2').mean() #verified score value for test model\n",
        "print('Verified R2 value for Testing Model: ' + str(cross_val_score2))"
      ],
      "execution_count": null,
      "outputs": [
        {
          "output_type": "stream",
          "name": "stdout",
          "text": [
            "Verified R2 value for Training model: 0.8550306666710871\n",
            "Verified R2 value for Testing Model: 0.8545525822861164\n"
          ]
        }
      ]
    },
    {
      "cell_type": "code",
      "metadata": {
        "colab": {
          "base_uri": "https://localhost:8080/"
        },
        "id": "-J2XrrLp8PX-",
        "outputId": "18738214-9aeb-44e1-9150-275ee3b3a11c"
      },
      "source": [
        "#RMSE is used for here for linear regression model\n",
        "RMSE1=np.sqrt(-cross_val_score(model, X_train, y_train, cv=10, \n",
        "                               scoring='neg_mean_squared_error')).mean() #verified RMSE score value for train model\n",
        "print('Verified RMSE value for Training model: ' + str(RMSE1))\n",
        "\n",
        "RMSE2=np.sqrt(-cross_val_score(model, X_test, y_test, cv=10, \n",
        "                               scoring='neg_mean_squared_error')).mean() #verified RMSE score value for test model\n",
        "print('Verified RMSE value for Testing Model: ' + str(RMSE2))"
      ],
      "execution_count": null,
      "outputs": [
        {
          "output_type": "stream",
          "name": "stdout",
          "text": [
            "Verified RMSE value for Training model: 7.234253963168416\n",
            "Verified RMSE value for Testing Model: 7.248181904900744\n"
          ]
        }
      ]
    },
    {
      "cell_type": "code",
      "metadata": {
        "colab": {
          "base_uri": "https://localhost:8080/",
          "height": 370
        },
        "id": "4h48jWqh8hZ9",
        "outputId": "bc249f61-fb84-4002-a8fd-4ff644434600"
      },
      "source": [
        "#Visualizing for Multiple Linear Regression y values\n",
        "#plotted the actual graph and predicted to see the difference between the RMSE scores\n",
        "\n",
        "import seaborn as sns\n",
        "ax1 = sns.distplot(y_train, hist=False, color=\"r\", label=\"Actual Value\")\n",
        "sns.distplot(y_test, hist=False, color=\"b\", label=\"Fitted Values\" , ax=ax1);"
      ],
      "execution_count": null,
      "outputs": [
        {
          "output_type": "stream",
          "name": "stderr",
          "text": [
            "/usr/local/lib/python3.7/dist-packages/seaborn/distributions.py:2619: FutureWarning: `distplot` is a deprecated function and will be removed in a future version. Please adapt your code to use either `displot` (a figure-level function with similar flexibility) or `kdeplot` (an axes-level function for kernel density plots).\n",
            "  warnings.warn(msg, FutureWarning)\n",
            "/usr/local/lib/python3.7/dist-packages/seaborn/distributions.py:2619: FutureWarning: `distplot` is a deprecated function and will be removed in a future version. Please adapt your code to use either `displot` (a figure-level function with similar flexibility) or `kdeplot` (an axes-level function for kernel density plots).\n",
            "  warnings.warn(msg, FutureWarning)\n"
          ]
        },
        {
          "output_type": "display_data",
          "data": {
            "image/png": "[encoded data removed]",
            "text/plain": [
              "<Figure size 432x288 with 1 Axes>"
            ]
          },
          "metadata": {
            "needs_background": "light"
          }
        }
      ]
    },
    {
      "cell_type": "code",
      "metadata": {
        "id": "0M_8kI9s8uWD"
      },
      "source": [
        "from sklearn.model_selection import GridSearchCV #hyperparamter tuning\n",
        "from sklearn.tree import DecisionTreeRegressor,DecisionTreeClassifier\n",
        "from sklearn.neighbors import KNeighborsRegressor\n",
        "from sklearn.ensemble import BaggingRegressor\n",
        "from sklearn.ensemble import RandomForestRegressor\n",
        "\n",
        "from warnings import filterwarnings\n",
        "filterwarnings('ignore')"
      ],
      "execution_count": null,
      "outputs": []
    },
    {
      "cell_type": "code",
      "metadata": {
        "id": "JqYWBJ9s89gx"
      },
      "source": [
        "knn_model=KNeighborsRegressor().fit(X_train, y_train)\n",
        "y_pred=knn_model.predict(X_test)"
      ],
      "execution_count": null,
      "outputs": []
    },
    {
      "cell_type": "code",
      "metadata": {
        "colab": {
          "base_uri": "https://localhost:8080/"
        },
        "id": "i8HfROJP8-GX",
        "outputId": "affcadca-065d-4fa1-82ba-91d879939b67"
      },
      "source": [
        "y_pred.shape"
      ],
      "execution_count": null,
      "outputs": [
        {
          "output_type": "execute_result",
          "data": {
            "text/plain": [
              "(266164,)"
            ]
          },
          "metadata": {},
          "execution_count": 38
        }
      ]
    },
    {
      "cell_type": "code",
      "metadata": {
        "colab": {
          "base_uri": "https://localhost:8080/"
        },
        "id": "dlkeGOyk9T06",
        "outputId": "1c3f38e2-e92a-427b-ac01-b20ca62f10df"
      },
      "source": [
        "#Model Tuning (learning best n_neighbors hyperparameter)\n",
        "knn_params={'n_neighbors' : np.arange(1,5,1)}\n",
        "\n",
        "knn=KNeighborsRegressor()\n",
        "knn_cv_model=GridSearchCV(knn, knn_params, cv=5)\n",
        "\n",
        "#cross validation with grid search. check all possible combinations. fivefold cross validation is being done in grid search.\n",
        "\n",
        "knn_cv_model.fit(X_train,y_train)\n",
        "knn_cv_model.best_params_[\"n_neighbors\"]"
      ],
      "execution_count": null,
      "outputs": [
        {
          "output_type": "execute_result",
          "data": {
            "text/plain": [
              "4"
            ]
          },
          "metadata": {},
          "execution_count": 39
        }
      ]
    },
    {
      "cell_type": "code",
      "metadata": {
        "colab": {
          "base_uri": "https://localhost:8080/"
        },
        "id": "pORRkOJ19W5z",
        "outputId": "b1aff764-984f-439f-c278-8fdeb634b668"
      },
      "source": [
        "# Train error values from n=1 up n=2\n",
        "RMSE=[]\n",
        "RMSE_CV=[]\n",
        "for k in range(2):\n",
        "    k=k+1\n",
        "    knn_model=KNeighborsRegressor(n_neighbors=k).fit(X_train, y_train)\n",
        "    y_pred=knn_model.predict(X_train)\n",
        "    rmse=np.sqrt(mean_squared_error(y_train,y_pred))\n",
        "    rmse_cv=np.sqrt(-1*cross_val_score(knn_model,X_train,y_train,cv=2,\n",
        "                                       scoring='neg_mean_squared_error').mean())\n",
        "\n",
        "    RMSE.append(rmse)\n",
        "    RMSE_CV.append(rmse_cv)\n",
        "\n",
        "    print(\"RMSE value: \", rmse, 'for k= ',k,\n",
        "          \"RMSE values with applying Cross Validation: \", rmse_cv)"
      ],
      "execution_count": null,
      "outputs": [
        {
          "output_type": "stream",
          "name": "stdout",
          "text": [
            "RMSE value:  0.0 for k=  1 RMSE values with applying Cross Validation:  4.5704085111158586\n",
            "RMSE value:  2.063653399759616 for k=  2 RMSE values with applying Cross Validation:  4.17425441394992\n"
          ]
        }
      ]
    },
    {
      "cell_type": "code",
      "metadata": {
        "colab": {
          "base_uri": "https://localhost:8080/"
        },
        "id": "Wq3voStA9uj-",
        "outputId": "9074b2a5-f7b6-43e1-8680-fd0dfa8589b7"
      },
      "source": [
        "#Model Tuning according to best parametre for KNN Regression\n",
        "knn_tuned=KNeighborsRegressor(n_neighbors=knn_cv_model.best_params_[\"n_neighbors\"])\n",
        "knn_tuned.fit(X_train,y_train)\n",
        "np.sqrt(mean_squared_error(y_test,knn_tuned.predict(X_test)))"
      ],
      "execution_count": null,
      "outputs": [
        {
          "output_type": "execute_result",
          "data": {
            "text/plain": [
              "3.709885748166492"
            ]
          },
          "metadata": {},
          "execution_count": 41
        }
      ]
    },
    {
      "cell_type": "code",
      "metadata": {
        "id": "xvIXzEWS9zGc"
      },
      "source": [
        "from sklearn.linear_model import LinearRegression\n",
        "from sklearn.model_selection import train_test_split\n",
        "from sklearn.preprocessing import PolynomialFeatures\n",
        "from sklearn.metrics import r2_score,mean_squared_error"
      ],
      "execution_count": null,
      "outputs": []
    },
    {
      "cell_type": "code",
      "metadata": {
        "colab": {
          "base_uri": "https://localhost:8080/"
        },
        "id": "I6SsFtaZ92gO",
        "outputId": "c0898365-d827-4822-964d-1be6daa6aca4"
      },
      "source": [
        "quad = PolynomialFeatures (degree = 2)\n",
        "x_quad = quad.fit_transform(X_train)\n",
        "\n",
        "X_train,X_test,y_train,y_test = train_test_split(x_quad,y_train, random_state = 0)\n",
        "\n",
        "plr = LinearRegression().fit(X_train,y_train)\n",
        "\n",
        "Y_train_pred = plr.predict(X_train)\n",
        "Y_test_pred = plr.predict(X_test)\n",
        "\n",
        "print('Polynomial Linear Regression:' ,plr.score(X_test,y_test))"
      ],
      "execution_count": null,
      "outputs": [
        {
          "output_type": "stream",
          "name": "stdout",
          "text": [
            "Polynomial Linear Regression: 0.8977739345776371\n"
          ]
        }
      ]
    },
    {
      "cell_type": "code",
      "metadata": {
        "colab": {
          "base_uri": "https://localhost:8080/",
          "height": 677
        },
        "id": "Klwb-PaQ99l_",
        "outputId": "c6cd82bd-0f52-4316-ff9f-d9bd1f698d75"
      },
      "source": [
        "#Plotting Residual in Linear Regression \n",
        "\n",
        "from sklearn import linear_model,metrics\n",
        "#Create linear regression object\n",
        "reg=linear_model.LinearRegression()\n",
        "\n",
        "#train the model using the train data sets\n",
        "reg.fit(X_train,y_train)\n",
        "\n",
        "#regression coefficients\n",
        "print(\"Coefficients: \\n\", reg.coef_)\n",
        "\n",
        "#Variance score\n",
        "print(\"Variance score: {}\".format(reg.score(X_test,y_test)))\n",
        "\n",
        "plt.style.use('fivethirtyeight')\n",
        "\n",
        "#plotting residual errors in training data\n",
        "plt.scatter(reg.predict(X_train),reg.predict(X_train)-y_train, \n",
        "            color=\"green\", s=10, label=\"train data\")\n",
        "\n",
        "#plotting residual errors in test data\n",
        "plt.scatter(reg.predict(X_test),reg.predict(X_test)-y_test, \n",
        "            color=\"blue\", s=10, label=\"test data\")\n",
        "\n",
        "#plot line for zero residual error\n",
        "plt.hlines(y=0,xmin=-2, xmax=2, linewidth=2)\n",
        "\n",
        "#plot legend\n",
        "plt.legend(loc='upper right')\n",
        "\n",
        "#plot title\n",
        "plt.title(\"residual error\")\n",
        "\n",
        "plt.show()"
      ],
      "execution_count": null,
      "outputs": [
        {
          "output_type": "stream",
          "name": "stdout",
          "text": [
            "Coefficients: \n",
            " [-1.11492341e-10 -3.77094574e-01  3.39210524e-01 -9.81757977e+00\n",
            " -1.20783995e+00  1.99478709e+01  2.54025012e-02 -6.40899490e-01\n",
            "  1.82075241e-01 -8.93585680e+00 -4.96721776e+00 -2.25190235e-01\n",
            " -2.16225813e-03  3.56080525e-03  3.54986237e-03  1.79841112e-03\n",
            "  1.01365937e-03  1.42332711e-04  4.30576405e-03 -1.14920770e-02\n",
            " -4.39429573e-03 -2.59152638e-02  3.34106388e-03  3.57688562e-03\n",
            " -1.61779644e-02  2.40355977e-03  6.16339988e-02 -9.55279031e-05\n",
            " -1.52710894e-03 -6.88083856e-03 -3.38597082e-02 -7.67166754e-02\n",
            "  9.96341747e-03  6.52941399e-02 -1.46915857e-03 -3.06182485e-01\n",
            " -7.09620102e-06 -4.51317549e-03 -7.67311964e-04  1.97535185e-01\n",
            "  2.94700553e-01  9.62266288e-04 -2.12892280e-04  3.48095075e-03\n",
            " -2.05148698e-06 -6.97757239e-03 -5.55686550e-03 -3.72909526e-03\n",
            "  5.16674059e-03  5.56247830e-03  3.82436861e-01 -2.04631906e-04\n",
            "  4.61175741e-03  8.65714245e-04 -5.02515869e-01 -6.75772762e-01\n",
            " -4.92212720e-04 -1.42395564e-06  9.96585674e-05  1.84432664e-04\n",
            "  2.15506822e-04  5.68122335e-04 -2.91213524e-05 -1.09033351e-03\n",
            " -1.82796195e-03  2.05560548e-06  2.13381992e-02  1.60570322e-03\n",
            " -6.49497897e-03  8.81630531e-03 -1.83391033e-02  1.20098151e-02\n",
            "  1.43844588e-01  4.32659026e-01 -1.33237736e-02  1.84601748e-01\n",
            "  2.27417814e-02 -5.08583032e-03]\n",
            "Variance score: 0.8977739345776371\n"
          ]
        },
        {
          "output_type": "display_data",
          "data": {
            "image/png": "[encoded data removed]",
            "text/plain": [
              "<Figure size 432x288 with 1 Axes>"
            ]
          },
          "metadata": {}
        }
      ]
    },
    {
      "cell_type": "code",
      "metadata": {
        "id": "neXL0Ix-qY-o"
      },
      "source": [
        ""
      ],
      "execution_count": null,
      "outputs": []
    }
  ]
}